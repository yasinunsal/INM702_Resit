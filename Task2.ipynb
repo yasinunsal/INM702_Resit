{
 "cells": [
  {
   "cell_type": "code",
   "execution_count": 14,
   "metadata": {
    "executionInfo": {
     "elapsed": 394,
     "status": "ok",
     "timestamp": 1704567328150,
     "user": {
      "displayName": "Yasin Ünsal",
      "userId": "08940235196587110399"
     },
     "user_tz": 0
    },
    "id": "OEAknmT2GR7e"
   },
   "outputs": [],
   "source": [
    "import torch\n",
    "import torchvision\n",
    "import numpy as np\n",
    "import torch.nn as nn\n",
    "from torchvision.datasets import CIFAR10\n",
    "from torchvision.transforms import ToTensor\n",
    "from torch.utils.data.dataloader import DataLoader\n",
    "from torch.utils.data import random_split\n",
    "import torch.nn.functional as F\n"
   ]
  },
  {
   "cell_type": "code",
   "execution_count": 15,
   "metadata": {
    "colab": {
     "base_uri": "https://localhost:8080/"
    },
    "executionInfo": {
     "elapsed": 1416,
     "status": "ok",
     "timestamp": 1704567330877,
     "user": {
      "displayName": "Yasin Ünsal",
      "userId": "08940235196587110399"
     },
     "user_tz": 0
    },
    "id": "-_6MBktsGtZq",
    "outputId": "574e9ea8-31a4-4c09-9aae-770a42b721b7"
   },
   "outputs": [
    {
     "name": "stdout",
     "output_type": "stream",
     "text": [
      "Files already downloaded and verified\n"
     ]
    }
   ],
   "source": [
    "#get dataset\n",
    "dataset = CIFAR10(root='data/', download=True, transform=ToTensor())\n",
    "test_dataset = CIFAR10(root='data/', train=False, transform=ToTensor())\n"
   ]
  },
  {
   "cell_type": "code",
   "execution_count": 16,
   "metadata": {
    "colab": {
     "base_uri": "https://localhost:8080/"
    },
    "executionInfo": {
     "elapsed": 3,
     "status": "ok",
     "timestamp": 1704567331504,
     "user": {
      "displayName": "Yasin Ünsal",
      "userId": "08940235196587110399"
     },
     "user_tz": 0
    },
    "id": "RQ1Pc0aqI0Zw",
    "outputId": "6d708c08-1ec6-442f-80a6-5faf00e846e4"
   },
   "outputs": [
    {
     "name": "stdout",
     "output_type": "stream",
     "text": [
      "Device:  cuda\n"
     ]
    }
   ],
   "source": [
    "#if available, use gpu\n",
    "if torch.cuda.is_available():\n",
    "  device = torch.device('cuda')\n",
    "else:\n",
    "  device = torch.device('cpu')\n",
    "print(\"Device: \", device)"
   ]
  },
  {
   "cell_type": "code",
   "execution_count": 17,
   "metadata": {
    "executionInfo": {
     "elapsed": 2,
     "status": "ok",
     "timestamp": 1704567333809,
     "user": {
      "displayName": "Yasin Ünsal",
      "userId": "08940235196587110399"
     },
     "user_tz": 0
    },
    "id": "BAg8uxZHIzIm"
   },
   "outputs": [],
   "source": [
    "batch_size = 128\n",
    "validation_size = 5000\n",
    "train_size = len(dataset) - validation_size\n",
    "\n",
    "train_dataset, validation_dataset = random_split(dataset, [train_size, validation_size])\n"
   ]
  },
  {
   "cell_type": "code",
   "execution_count": 18,
   "metadata": {
    "executionInfo": {
     "elapsed": 1,
     "status": "ok",
     "timestamp": 1704567335205,
     "user": {
      "displayName": "Yasin Ünsal",
      "userId": "08940235196587110399"
     },
     "user_tz": 0
    },
    "id": "dbiPTjbJJiP_"
   },
   "outputs": [],
   "source": [
    "train_loader = DataLoader(train_dataset, batch_size=batch_size, shuffle=True, num_workers=2)\n",
    "validation_loader = DataLoader(validation_dataset, batch_size=batch_size*2, shuffle=False, num_workers=2)\n",
    "test_loader = DataLoader(test_dataset, batch_size=batch_size*2, shuffle=False, num_workers=2)"
   ]
  },
  {
   "cell_type": "markdown",
   "metadata": {},
   "source": [
    "## Base Model"
   ]
  },
  {
   "cell_type": "code",
   "execution_count": 19,
   "metadata": {
    "executionInfo": {
     "elapsed": 2,
     "status": "ok",
     "timestamp": 1704567336899,
     "user": {
      "displayName": "Yasin Ünsal",
      "userId": "08940235196587110399"
     },
     "user_tz": 0
    },
    "id": "AqGgIL292u_3"
   },
   "outputs": [],
   "source": [
    "#define neural network\n",
    "class BaseModel(nn.Module):\n",
    "  def __init__(self):\n",
    "    super().__init__()\n",
    "    self.linear1 = nn.Linear(3*32*32, 256)\n",
    "    self.linear2 = nn.Linear(256, 128)\n",
    "    self.linear3 = nn.Linear(128, 10)\n",
    "\n",
    "  def forward(self, x):\n",
    "    x = x.view(x.size(0), -1)\n",
    "    x = self.linear1(x)\n",
    "    x = F.relu(x)\n",
    "    x = self.linear2(x)\n",
    "    x = F.relu(x)\n",
    "    x = self.linear3(x)\n",
    "    return x"
   ]
  },
  {
   "cell_type": "code",
   "execution_count": 20,
   "metadata": {
    "colab": {
     "base_uri": "https://localhost:8080/"
    },
    "executionInfo": {
     "elapsed": 1061,
     "status": "ok",
     "timestamp": 1704567339799,
     "user": {
      "displayName": "Yasin Ünsal",
      "userId": "08940235196587110399"
     },
     "user_tz": 0
    },
    "id": "WJYErJwp4gUP",
    "outputId": "15b4665a-b739-4270-a890-01878b8e6b77"
   },
   "outputs": [
    {
     "name": "stdout",
     "output_type": "stream",
     "text": [
      "BaseModel(\n",
      "  (linear1): Linear(in_features=3072, out_features=256, bias=True)\n",
      "  (linear2): Linear(in_features=256, out_features=128, bias=True)\n",
      "  (linear3): Linear(in_features=128, out_features=10, bias=True)\n",
      ")\n"
     ]
    }
   ],
   "source": [
    "model = BaseModel()\n",
    "print(model)\n",
    "num_epochs = 25\n",
    "num_classes = 10\n",
    "\n",
    "model = BaseModel().to(device)\n",
    "#loss function and optimizers\n",
    "criterion = nn.CrossEntropyLoss()\n",
    "optimizer_adam = torch.optim.Adam(model.parameters(),lr = 0.001)\n",
    "optimizer_sgd = torch.optim.SGD(model.parameters(),lr = 0.001, momentum=0.9)"
   ]
  },
  {
   "cell_type": "markdown",
   "metadata": {},
   "source": [
    "## Training Base Model with Adam Optimizer"
   ]
  },
  {
   "cell_type": "code",
   "execution_count": 29,
   "metadata": {
    "colab": {
     "base_uri": "https://localhost:8080/"
    },
    "executionInfo": {
     "elapsed": 209113,
     "status": "ok",
     "timestamp": 1704568119098,
     "user": {
      "displayName": "Yasin Ünsal",
      "userId": "08940235196587110399"
     },
     "user_tz": 0
    },
    "id": "HW2I6j_44jvF",
    "outputId": "1ae42ac0-8f8f-44a6-89df-e18cbe110d54"
   },
   "outputs": [
    {
     "name": "stdout",
     "output_type": "stream",
     "text": [
      "Epoch: 1 \tTraining Loss: 1.177166 \tValidation Loss: 1.496940\n",
      "Epoch: 2 \tTraining Loss: 1.160314 \tValidation Loss: 1.454016\n",
      "Epoch: 3 \tTraining Loss: 1.144090 \tValidation Loss: 1.445431\n",
      "Epoch: 4 \tTraining Loss: 1.134878 \tValidation Loss: 1.500752\n",
      "Epoch: 5 \tTraining Loss: 1.134193 \tValidation Loss: 1.480674\n",
      "Epoch: 6 \tTraining Loss: 1.123595 \tValidation Loss: 1.501235\n",
      "Epoch: 7 \tTraining Loss: 1.116957 \tValidation Loss: 1.494431\n",
      "Epoch: 8 \tTraining Loss: 1.105624 \tValidation Loss: 1.472463\n",
      "Epoch: 9 \tTraining Loss: 1.097935 \tValidation Loss: 1.463676\n",
      "Epoch: 10 \tTraining Loss: 1.101940 \tValidation Loss: 1.455677\n",
      "Epoch: 11 \tTraining Loss: 1.081470 \tValidation Loss: 1.475838\n",
      "Epoch: 12 \tTraining Loss: 1.073769 \tValidation Loss: 1.478480\n",
      "Epoch: 13 \tTraining Loss: 1.076881 \tValidation Loss: 1.509173\n",
      "Epoch: 14 \tTraining Loss: 1.060468 \tValidation Loss: 1.493170\n",
      "Epoch: 15 \tTraining Loss: 1.060204 \tValidation Loss: 1.491200\n",
      "Epoch: 16 \tTraining Loss: 1.051111 \tValidation Loss: 1.460067\n",
      "Epoch: 17 \tTraining Loss: 1.053492 \tValidation Loss: 1.472772\n",
      "Epoch: 18 \tTraining Loss: 1.039087 \tValidation Loss: 1.485643\n",
      "Epoch: 19 \tTraining Loss: 1.031890 \tValidation Loss: 1.492860\n",
      "Epoch: 20 \tTraining Loss: 1.030155 \tValidation Loss: 1.507103\n",
      "Epoch: 21 \tTraining Loss: 1.027164 \tValidation Loss: 1.493255\n",
      "Epoch: 22 \tTraining Loss: 1.021546 \tValidation Loss: 1.483837\n",
      "Epoch: 23 \tTraining Loss: 1.007179 \tValidation Loss: 1.506834\n",
      "Epoch: 24 \tTraining Loss: 1.002522 \tValidation Loss: 1.496427\n",
      "Epoch: 25 \tTraining Loss: 1.005456 \tValidation Loss: 1.544678\n"
     ]
    }
   ],
   "source": [
    "train_losses = []\n",
    "valid_losses = []\n",
    "\n",
    "for epoch in range(1, num_epochs + 1):\n",
    "    train_loss = 0.0\n",
    "    valid_loss = 0.0\n",
    "\n",
    "    model.train()\n",
    "    for data, target in train_loader:\n",
    "\n",
    "        data = data.to(device)\n",
    "        target = target.to(device)\n",
    "\n",
    "        optimizer_adam.zero_grad()\n",
    "        output = model(data)\n",
    "        loss = criterion(output, target)\n",
    "        loss.backward()\n",
    "        optimizer_adam.step()\n",
    "        train_loss += loss.item() * data.size(0)\n",
    "\n",
    "    model.eval()\n",
    "    for data, target in validation_loader:\n",
    "\n",
    "        data = data.to(device)\n",
    "        target = target.to(device)\n",
    "\n",
    "        output = model(data)\n",
    "\n",
    "        loss = criterion(output, target)\n",
    "\n",
    "        valid_loss += loss.item() * data.size(0)\n",
    "\n",
    "    train_loss = train_loss/len(train_loader.sampler)\n",
    "    valid_loss = valid_loss/len(validation_loader.sampler)\n",
    "    train_losses.append(train_loss)\n",
    "    valid_losses.append(valid_loss)\n",
    "\n",
    "    print('Epoch: {} \\tTraining Loss: {:.6f} \\tValidation Loss: {:.6f}'.format(\n",
    "        epoch, train_loss, valid_loss))"
   ]
  },
  {
   "cell_type": "code",
   "execution_count": 30,
   "metadata": {
    "colab": {
     "base_uri": "https://localhost:8080/"
    },
    "executionInfo": {
     "elapsed": 2235,
     "status": "ok",
     "timestamp": 1704568166176,
     "user": {
      "displayName": "Yasin Ünsal",
      "userId": "08940235196587110399"
     },
     "user_tz": 0
    },
    "id": "8SSLFiLb4t3i",
    "outputId": "79f05dfb-faf3-4309-f0b5-e9ed9411c90f"
   },
   "outputs": [
    {
     "name": "stdout",
     "output_type": "stream",
     "text": [
      "Test Accuracy of the model: 50.5 %\n"
     ]
    }
   ],
   "source": [
    "accuracy_base_model_adam= []\n",
    "\n",
    "model.eval()\n",
    "with torch.no_grad():\n",
    "    correct = 0\n",
    "    total = 0\n",
    "    for images, labels in test_loader:\n",
    "        images = images.to(device)\n",
    "        labels = labels.to(device)\n",
    "        outputs = model(images)\n",
    "        _, predicted = torch.max(outputs.data, 1)\n",
    "        total += labels.size(0)\n",
    "        correct += (predicted == labels).sum().item()\n",
    "        accuracy_base_model_adam.append(round(100*correct/total, 2))\n",
    "    print('Test Accuracy of the model: {} %'.format(100 * correct / total))\n"
   ]
  },
  {
   "cell_type": "markdown",
   "metadata": {},
   "source": [
    "## Training Base Model with SGD Optimizer"
   ]
  },
  {
   "cell_type": "code",
   "execution_count": 31,
   "metadata": {
    "colab": {
     "base_uri": "https://localhost:8080/"
    },
    "executionInfo": {
     "elapsed": 214846,
     "status": "ok",
     "timestamp": 1704568391227,
     "user": {
      "displayName": "Yasin Ünsal",
      "userId": "08940235196587110399"
     },
     "user_tz": 0
    },
    "id": "rOn0v689HkVT",
    "outputId": "1e1b224f-0f0e-4647-93a4-6faa013d2aba"
   },
   "outputs": [
    {
     "name": "stdout",
     "output_type": "stream",
     "text": [
      "Epoch: 1 \tTraining Loss: 0.892813 \tValidation Loss: 1.474454\n",
      "Epoch: 2 \tTraining Loss: 0.873046 \tValidation Loss: 1.482133\n",
      "Epoch: 3 \tTraining Loss: 0.868218 \tValidation Loss: 1.487214\n",
      "Epoch: 4 \tTraining Loss: 0.865710 \tValidation Loss: 1.496456\n",
      "Epoch: 5 \tTraining Loss: 0.862608 \tValidation Loss: 1.494166\n",
      "Epoch: 6 \tTraining Loss: 0.860298 \tValidation Loss: 1.501786\n",
      "Epoch: 7 \tTraining Loss: 0.858429 \tValidation Loss: 1.501992\n",
      "Epoch: 8 \tTraining Loss: 0.856373 \tValidation Loss: 1.502114\n",
      "Epoch: 9 \tTraining Loss: 0.854855 \tValidation Loss: 1.513522\n",
      "Epoch: 10 \tTraining Loss: 0.852545 \tValidation Loss: 1.513312\n",
      "Epoch: 11 \tTraining Loss: 0.851197 \tValidation Loss: 1.518543\n",
      "Epoch: 12 \tTraining Loss: 0.849819 \tValidation Loss: 1.522509\n",
      "Epoch: 13 \tTraining Loss: 0.848376 \tValidation Loss: 1.523100\n",
      "Epoch: 14 \tTraining Loss: 0.847493 \tValidation Loss: 1.529848\n",
      "Epoch: 15 \tTraining Loss: 0.846536 \tValidation Loss: 1.531503\n",
      "Epoch: 16 \tTraining Loss: 0.845020 \tValidation Loss: 1.531150\n",
      "Epoch: 17 \tTraining Loss: 0.843834 \tValidation Loss: 1.536092\n",
      "Epoch: 18 \tTraining Loss: 0.842428 \tValidation Loss: 1.541608\n",
      "Epoch: 19 \tTraining Loss: 0.842111 \tValidation Loss: 1.542635\n",
      "Epoch: 20 \tTraining Loss: 0.840093 \tValidation Loss: 1.547782\n",
      "Epoch: 21 \tTraining Loss: 0.839561 \tValidation Loss: 1.544868\n",
      "Epoch: 22 \tTraining Loss: 0.838697 \tValidation Loss: 1.542225\n",
      "Epoch: 23 \tTraining Loss: 0.837609 \tValidation Loss: 1.554369\n",
      "Epoch: 24 \tTraining Loss: 0.836782 \tValidation Loss: 1.553295\n",
      "Epoch: 25 \tTraining Loss: 0.835871 \tValidation Loss: 1.552251\n"
     ]
    }
   ],
   "source": [
    "train_losses = []\n",
    "valid_losses = []\n",
    "\n",
    "for epoch in range(1, num_epochs + 1):\n",
    "    train_loss = 0.0\n",
    "    valid_loss = 0.0\n",
    "\n",
    "    model.train()\n",
    "    for data, target in train_loader:\n",
    "\n",
    "        data = data.to(device)\n",
    "        target = target.to(device)\n",
    "\n",
    "        optimizer_sgd.zero_grad()\n",
    "        output = model(data)\n",
    "        loss = criterion(output, target)\n",
    "        loss.backward()\n",
    "        optimizer_sgd.step()\n",
    "        train_loss += loss.item() * data.size(0)\n",
    "\n",
    "    model.eval()\n",
    "    for data, target in validation_loader:\n",
    "\n",
    "        data = data.to(device)\n",
    "        target = target.to(device)\n",
    "\n",
    "        output = model(data)\n",
    "\n",
    "        loss = criterion(output, target)\n",
    "\n",
    "        valid_loss += loss.item() * data.size(0)\n",
    "\n",
    "    train_loss = train_loss/len(train_loader.sampler)\n",
    "    valid_loss = valid_loss/len(validation_loader.sampler)\n",
    "    train_losses.append(train_loss)\n",
    "    valid_losses.append(valid_loss)\n",
    "\n",
    "    print('Epoch: {} \\tTraining Loss: {:.6f} \\tValidation Loss: {:.6f}'.format(\n",
    "        epoch, train_loss, valid_loss))"
   ]
  },
  {
   "cell_type": "code",
   "execution_count": 32,
   "metadata": {
    "colab": {
     "base_uri": "https://localhost:8080/"
    },
    "executionInfo": {
     "elapsed": 1857,
     "status": "ok",
     "timestamp": 1704568416507,
     "user": {
      "displayName": "Yasin Ünsal",
      "userId": "08940235196587110399"
     },
     "user_tz": 0
    },
    "id": "a-E8uCTcH0Jd",
    "outputId": "8afb91bd-9f90-48c3-98c1-1812777cab3c"
   },
   "outputs": [
    {
     "name": "stdout",
     "output_type": "stream",
     "text": [
      "Test Accuracy of the model: 52.61 %\n"
     ]
    }
   ],
   "source": [
    "accuracy_base_model_sgd = []\n",
    "\n",
    "model.eval()\n",
    "with torch.no_grad():\n",
    "    correct = 0\n",
    "    total = 0\n",
    "    for images, labels in test_loader:\n",
    "        images = images.to(device)\n",
    "        labels = labels.to(device)\n",
    "        outputs = model(images)\n",
    "        _, predicted = torch.max(outputs.data, 1)\n",
    "        total += labels.size(0)\n",
    "        correct += (predicted == labels).sum().item()\n",
    "        accuracy_base_model_sgd.append(round(100*correct/total, 2))\n",
    "    print('Test Accuracy of the model: {} %'.format(100 * correct / total))\n"
   ]
  },
  {
   "cell_type": "code",
   "execution_count": 33,
   "metadata": {
    "colab": {
     "base_uri": "https://localhost:8080/",
     "height": 466
    },
    "executionInfo": {
     "elapsed": 552,
     "status": "ok",
     "timestamp": 1704568426611,
     "user": {
      "displayName": "Yasin Ünsal",
      "userId": "08940235196587110399"
     },
     "user_tz": 0
    },
    "id": "zOOBR44SIDzx",
    "outputId": "1473bcc7-c5f5-45e2-e3a5-ce8d41210350"
   },
   "outputs": [
    {
     "data": {
      "text/plain": [
       "<matplotlib.legend.Legend at 0x7e4c2a953cd0>"
      ]
     },
     "execution_count": 33,
     "metadata": {},
     "output_type": "execute_result"
    },
    {
     "data": {
      "image/png": "[encoded data removed]",
      "text/plain": [
       "<Figure size 640x480 with 1 Axes>"
      ]
     },
     "metadata": {},
     "output_type": "display_data"
    }
   ],
   "source": [
    "plt.plot(accuracy_base_model_adam, label = \"Accuracy of the Base Model with Adam Optimizer\")\n",
    "plt.plot(accuracy_base_model_sgd, label = \"Accuracy of the Base Model with SGD Optimizer\")\n",
    "plt.xlabel(\"Tests\")\n",
    "plt.ylabel(\"Accuracy\")\n",
    "plt.legend(frameon=False)"
   ]
  },
  {
   "cell_type": "markdown",
   "metadata": {
    "id": "2QerxEyZ4xL0"
   },
   "source": [
    "## Improved Model"
   ]
  },
  {
   "cell_type": "code",
   "execution_count": 34,
   "metadata": {
    "executionInfo": {
     "elapsed": 401,
     "status": "ok",
     "timestamp": 1704568734182,
     "user": {
      "displayName": "Yasin Ünsal",
      "userId": "08940235196587110399"
     },
     "user_tz": 0
    },
    "id": "1narxCiaMKGA"
   },
   "outputs": [],
   "source": [
    "\n",
    "class CIFAR10Classification(nn.Module):\n",
    "  def __init__(self):\n",
    "      super().__init__()\n",
    "      self.conv1 = nn.Conv2d(3, 32, kernel_size=3, padding=1)\n",
    "      self.dropout1 = nn.Dropout2d(0.2)\n",
    "      self.conv2 = nn.Conv2d(32, 64, kernel_size=3, padding=1)\n",
    "      self.pool = nn.MaxPool2d(2, 2)\n",
    "      self.conv3 = nn.Conv2d(64, 64, kernel_size=3, padding=1)\n",
    "      self.flatten = nn.Flatten()\n",
    "      self.fc1 = nn.Linear(64 * 16 * 16, 512)\n",
    "      self.dropout2 = nn.Dropout(0.2)\n",
    "      self.fc2 = nn.Linear(512, 256)\n",
    "      self.dropout3 = nn.Dropout(0.2)\n",
    "      self.fc3 = nn.Linear(256, 10)\n",
    "\n",
    "\n",
    "  def forward(self, x):\n",
    "      x = self.conv1(x)\n",
    "      x = F.relu(x)\n",
    "      x = self.dropout1(x)\n",
    "      x = self.conv2(x)\n",
    "      x = F.relu(x)\n",
    "      x = self.pool(x)\n",
    "      x = self.conv3(x)\n",
    "      x = F.relu(x)\n",
    "      x = self.flatten(x)\n",
    "      x = self.fc1(x)\n",
    "      x = F.relu(x)\n",
    "      x = self.dropout2(x)\n",
    "      x = self.fc2(x)\n",
    "      x = F.relu(x)\n",
    "      x = self.dropout3(x)\n",
    "      x = self.fc3(x)\n",
    "      x = F.softmax(x, dim=1)\n",
    "      return x\n"
   ]
  },
  {
   "cell_type": "code",
   "execution_count": 35,
   "metadata": {
    "colab": {
     "base_uri": "https://localhost:8080/"
    },
    "executionInfo": {
     "elapsed": 553,
     "status": "ok",
     "timestamp": 1704568738772,
     "user": {
      "displayName": "Yasin Ünsal",
      "userId": "08940235196587110399"
     },
     "user_tz": 0
    },
    "id": "7MF2Q2W7PTPP",
    "outputId": "d51ac787-1836-40c9-bd02-e32f1f12ee24"
   },
   "outputs": [
    {
     "name": "stdout",
     "output_type": "stream",
     "text": [
      "CIFAR10Classification(\n",
      "  (conv1): Conv2d(3, 32, kernel_size=(3, 3), stride=(1, 1), padding=(1, 1))\n",
      "  (dropout1): Dropout2d(p=0.2, inplace=False)\n",
      "  (conv2): Conv2d(32, 64, kernel_size=(3, 3), stride=(1, 1), padding=(1, 1))\n",
      "  (pool): MaxPool2d(kernel_size=2, stride=2, padding=0, dilation=1, ceil_mode=False)\n",
      "  (conv3): Conv2d(64, 64, kernel_size=(3, 3), stride=(1, 1), padding=(1, 1))\n",
      "  (flatten): Flatten(start_dim=1, end_dim=-1)\n",
      "  (fc1): Linear(in_features=16384, out_features=512, bias=True)\n",
      "  (dropout2): Dropout(p=0.2, inplace=False)\n",
      "  (fc2): Linear(in_features=512, out_features=256, bias=True)\n",
      "  (dropout3): Dropout(p=0.2, inplace=False)\n",
      "  (fc3): Linear(in_features=256, out_features=10, bias=True)\n",
      ")\n"
     ]
    }
   ],
   "source": [
    "model = CIFAR10Classification()\n",
    "print(model)\n",
    "num_epochs = 25\n",
    "num_classes = 10\n"
   ]
  },
  {
   "cell_type": "code",
   "execution_count": 36,
   "metadata": {
    "executionInfo": {
     "elapsed": 521,
     "status": "ok",
     "timestamp": 1704568741436,
     "user": {
      "displayName": "Yasin Ünsal",
      "userId": "08940235196587110399"
     },
     "user_tz": 0
    },
    "id": "e4-FhhOhPgFH"
   },
   "outputs": [],
   "source": [
    "model = CIFAR10Classification().to(device)\n",
    "criterion = nn.CrossEntropyLoss()\n",
    "optimizer_adam = torch.optim.Adam(model.parameters(),lr = 0.001)\n",
    "optimizer_sgd = torch.optim.SGD(model.parameters(),lr = 0.001, momentum=0.9)"
   ]
  },
  {
   "cell_type": "markdown",
   "metadata": {},
   "source": [
    "# Training Improved Model with Adam Optimizer"
   ]
  },
  {
   "cell_type": "code",
   "execution_count": 37,
   "metadata": {
    "colab": {
     "base_uri": "https://localhost:8080/"
    },
    "executionInfo": {
     "elapsed": 256276,
     "status": "ok",
     "timestamp": 1704569000180,
     "user": {
      "displayName": "Yasin Ünsal",
      "userId": "08940235196587110399"
     },
     "user_tz": 0
    },
    "id": "ARneY1Z2P5fk",
    "outputId": "d2ffdf5c-96ab-4928-e837-0b12cbe75d31"
   },
   "outputs": [
    {
     "name": "stdout",
     "output_type": "stream",
     "text": [
      "Epoch: 1 \tTraining Loss: 2.142964 \tValidation Loss: 2.032359\n",
      "Epoch: 2 \tTraining Loss: 2.032384 \tValidation Loss: 1.979597\n",
      "Epoch: 3 \tTraining Loss: 1.974502 \tValidation Loss: 1.939368\n",
      "Epoch: 4 \tTraining Loss: 1.927768 \tValidation Loss: 1.935605\n",
      "Epoch: 5 \tTraining Loss: 1.894691 \tValidation Loss: 1.879708\n",
      "Epoch: 6 \tTraining Loss: 1.873060 \tValidation Loss: 1.882351\n",
      "Epoch: 7 \tTraining Loss: 1.845544 \tValidation Loss: 1.857072\n",
      "Epoch: 8 \tTraining Loss: 1.830078 \tValidation Loss: 1.840618\n",
      "Epoch: 9 \tTraining Loss: 1.817939 \tValidation Loss: 1.830727\n",
      "Epoch: 10 \tTraining Loss: 1.796981 \tValidation Loss: 1.819516\n",
      "Epoch: 11 \tTraining Loss: 1.782346 \tValidation Loss: 1.824906\n",
      "Epoch: 12 \tTraining Loss: 1.769391 \tValidation Loss: 1.817097\n",
      "Epoch: 13 \tTraining Loss: 1.755124 \tValidation Loss: 1.815110\n",
      "Epoch: 14 \tTraining Loss: 1.748840 \tValidation Loss: 1.808815\n",
      "Epoch: 15 \tTraining Loss: 1.735474 \tValidation Loss: 1.805974\n",
      "Epoch: 16 \tTraining Loss: 1.732300 \tValidation Loss: 1.807069\n",
      "Epoch: 17 \tTraining Loss: 1.719675 \tValidation Loss: 1.790109\n",
      "Epoch: 18 \tTraining Loss: 1.713604 \tValidation Loss: 1.793043\n",
      "Epoch: 19 \tTraining Loss: 1.705886 \tValidation Loss: 1.796865\n",
      "Epoch: 20 \tTraining Loss: 1.700768 \tValidation Loss: 1.790189\n",
      "Epoch: 21 \tTraining Loss: 1.696324 \tValidation Loss: 1.784820\n",
      "Epoch: 22 \tTraining Loss: 1.695299 \tValidation Loss: 1.802887\n",
      "Epoch: 23 \tTraining Loss: 1.686604 \tValidation Loss: 1.788547\n",
      "Epoch: 24 \tTraining Loss: 1.677946 \tValidation Loss: 1.793661\n",
      "Epoch: 25 \tTraining Loss: 1.677554 \tValidation Loss: 1.815601\n"
     ]
    }
   ],
   "source": [
    "train_losses = []\n",
    "valid_losses = []\n",
    "\n",
    "for epoch in range(1, num_epochs + 1):\n",
    "    train_loss = 0.0\n",
    "    valid_loss = 0.0\n",
    "\n",
    "    model.train()\n",
    "    for data, target in train_loader:\n",
    "\n",
    "        data = data.to(device)\n",
    "        target = target.to(device)\n",
    "\n",
    "        optimizer_adam.zero_grad()\n",
    "        output = model(data)\n",
    "        loss = criterion(output, target)\n",
    "        loss.backward()\n",
    "        optimizer_adam.step()\n",
    "        train_loss += loss.item() * data.size(0)\n",
    "\n",
    "    model.eval()\n",
    "    for data, target in validation_loader:\n",
    "\n",
    "        data = data.to(device)\n",
    "        target = target.to(device)\n",
    "\n",
    "        output = model(data)\n",
    "\n",
    "        loss = criterion(output, target)\n",
    "\n",
    "        valid_loss += loss.item() * data.size(0)\n",
    "\n",
    "    train_loss = train_loss/len(train_loader.sampler)\n",
    "    valid_loss = valid_loss/len(validation_loader.sampler)\n",
    "    train_losses.append(train_loss)\n",
    "    valid_losses.append(valid_loss)\n",
    "\n",
    "    print('Epoch: {} \\tTraining Loss: {:.6f} \\tValidation Loss: {:.6f}'.format(\n",
    "        epoch, train_loss, valid_loss))"
   ]
  },
  {
   "cell_type": "code",
   "execution_count": 38,
   "metadata": {
    "colab": {
     "base_uri": "https://localhost:8080/"
    },
    "executionInfo": {
     "elapsed": 1766,
     "status": "ok",
     "timestamp": 1704569357330,
     "user": {
      "displayName": "Yasin Ünsal",
      "userId": "08940235196587110399"
     },
     "user_tz": 0
    },
    "id": "vLXVx2RhQRY3",
    "outputId": "82040c67-832e-4279-f72d-5a2c722b6db4"
   },
   "outputs": [
    {
     "name": "stdout",
     "output_type": "stream",
     "text": [
      "Test Accuracy of the model: 65.24 %\n"
     ]
    }
   ],
   "source": [
    "accuracy_improved_model_adam = []\n",
    "model.eval()\n",
    "with torch.no_grad():\n",
    "    correct = 0\n",
    "    total = 0\n",
    "    for images, labels in test_loader:\n",
    "        images = images.to(device)\n",
    "        labels = labels.to(device)\n",
    "        outputs = model(images)\n",
    "        _, predicted = torch.max(outputs.data, 1)\n",
    "        total += labels.size(0)\n",
    "        correct += (predicted == labels).sum().item()\n",
    "        accuracy_improved_model_adam.append(round(100*correct/total, 2))\n",
    "\n",
    "\n",
    "    print('Test Accuracy of the model: {} %'.format(100 * correct / total))\n"
   ]
  },
  {
   "cell_type": "markdown",
   "metadata": {},
   "source": [
    "# Training Improved Model with Adam Optimizer"
   ]
  },
  {
   "cell_type": "code",
   "execution_count": 39,
   "metadata": {
    "colab": {
     "base_uri": "https://localhost:8080/"
    },
    "executionInfo": {
     "elapsed": 247838,
     "status": "ok",
     "timestamp": 1704569609308,
     "user": {
      "displayName": "Yasin Ünsal",
      "userId": "08940235196587110399"
     },
     "user_tz": 0
    },
    "id": "XRDL0gGYNNEW",
    "outputId": "2030727c-a093-4257-fb29-32e8c4046a3c"
   },
   "outputs": [
    {
     "name": "stdout",
     "output_type": "stream",
     "text": [
      "Epoch: 1 \tTraining Loss: 1.662629 \tValidation Loss: 1.785285\n",
      "Epoch: 2 \tTraining Loss: 1.651867 \tValidation Loss: 1.789932\n",
      "Epoch: 3 \tTraining Loss: 1.650519 \tValidation Loss: 1.782142\n",
      "Epoch: 4 \tTraining Loss: 1.649038 \tValidation Loss: 1.778724\n",
      "Epoch: 5 \tTraining Loss: 1.648288 \tValidation Loss: 1.778479\n",
      "Epoch: 6 \tTraining Loss: 1.648367 \tValidation Loss: 1.780153\n",
      "Epoch: 7 \tTraining Loss: 1.647385 \tValidation Loss: 1.776617\n",
      "Epoch: 8 \tTraining Loss: 1.645389 \tValidation Loss: 1.777750\n",
      "Epoch: 9 \tTraining Loss: 1.642122 \tValidation Loss: 1.775609\n",
      "Epoch: 10 \tTraining Loss: 1.641760 \tValidation Loss: 1.778166\n",
      "Epoch: 11 \tTraining Loss: 1.642681 \tValidation Loss: 1.775566\n",
      "Epoch: 12 \tTraining Loss: 1.640026 \tValidation Loss: 1.775513\n",
      "Epoch: 13 \tTraining Loss: 1.641386 \tValidation Loss: 1.775213\n",
      "Epoch: 14 \tTraining Loss: 1.642444 \tValidation Loss: 1.778438\n",
      "Epoch: 15 \tTraining Loss: 1.640340 \tValidation Loss: 1.776371\n",
      "Epoch: 16 \tTraining Loss: 1.639569 \tValidation Loss: 1.774374\n",
      "Epoch: 17 \tTraining Loss: 1.639952 \tValidation Loss: 1.780398\n",
      "Epoch: 18 \tTraining Loss: 1.639113 \tValidation Loss: 1.774578\n",
      "Epoch: 19 \tTraining Loss: 1.638768 \tValidation Loss: 1.774129\n",
      "Epoch: 20 \tTraining Loss: 1.638182 \tValidation Loss: 1.774751\n",
      "Epoch: 21 \tTraining Loss: 1.639322 \tValidation Loss: 1.776688\n",
      "Epoch: 22 \tTraining Loss: 1.638638 \tValidation Loss: 1.771563\n",
      "Epoch: 23 \tTraining Loss: 1.637932 \tValidation Loss: 1.772193\n",
      "Epoch: 24 \tTraining Loss: 1.636975 \tValidation Loss: 1.771052\n",
      "Epoch: 25 \tTraining Loss: 1.637614 \tValidation Loss: 1.772281\n"
     ]
    }
   ],
   "source": [
    "train_losses = []\n",
    "valid_losses = []\n",
    "\n",
    "for epoch in range(1, num_epochs + 1):\n",
    "    train_loss = 0.0\n",
    "    valid_loss = 0.0\n",
    "\n",
    "    model.train()\n",
    "    for data, target in train_loader:\n",
    "        data = data.to(device)\n",
    "        target = target.to(device)\n",
    "        optimizer_sgd.zero_grad()\n",
    "        output = model(data)\n",
    "        loss = criterion(output, target)\n",
    "        loss.backward()\n",
    "        optimizer_sgd.step()\n",
    "        train_loss += loss.item() * data.size(0)\n",
    "\n",
    "    model.eval()\n",
    "    for data, target in validation_loader:\n",
    "        data = data.to(device)\n",
    "        target = target.to(device)\n",
    "        output = model(data)\n",
    "        loss = criterion(output, target)\n",
    "        valid_loss += loss.item() * data.size(0)\n",
    "\n",
    "    train_loss = train_loss/len(train_loader.sampler)\n",
    "    valid_loss = valid_loss/len(validation_loader.sampler)\n",
    "    train_losses.append(train_loss)\n",
    "    valid_losses.append(valid_loss)\n",
    "\n",
    "    print('Epoch: {} \\tTraining Loss: {:.6f} \\tValidation Loss: {:.6f}'.format(\n",
    "        epoch, train_loss, valid_loss))"
   ]
  },
  {
   "cell_type": "code",
   "execution_count": 40,
   "metadata": {
    "colab": {
     "base_uri": "https://localhost:8080/"
    },
    "executionInfo": {
     "elapsed": 1714,
     "status": "ok",
     "timestamp": 1704569687113,
     "user": {
      "displayName": "Yasin Ünsal",
      "userId": "08940235196587110399"
     },
     "user_tz": 0
    },
    "id": "lCqajYi_NSBR",
    "outputId": "88846867-d080-4be4-aa3b-71c196438e8e"
   },
   "outputs": [
    {
     "name": "stdout",
     "output_type": "stream",
     "text": [
      "Test Accuracy of the model: 69.45 %\n"
     ]
    }
   ],
   "source": [
    "accuracy_improved_model_sgd = []\n",
    "model.eval()\n",
    "with torch.no_grad():\n",
    "    correct = 0\n",
    "    total = 0\n",
    "    for images, labels in test_loader:\n",
    "        images = images.to(device)\n",
    "        labels = labels.to(device)\n",
    "        outputs = model(images)\n",
    "        _, predicted = torch.max(outputs.data, 1)\n",
    "        total += labels.size(0)\n",
    "        correct += (predicted == labels).sum().item()\n",
    "        accuracy_improved_model_sgd.append(round(100*correct/total, 2))\n",
    "\n",
    "\n",
    "    print('Test Accuracy of the model: {} %'.format(100 * correct / total))\n"
   ]
  },
  {
   "cell_type": "code",
   "execution_count": 42,
   "metadata": {
    "colab": {
     "base_uri": "https://localhost:8080/",
     "height": 466
    },
    "executionInfo": {
     "elapsed": 1254,
     "status": "ok",
     "timestamp": 1704569781423,
     "user": {
      "displayName": "Yasin Ünsal",
      "userId": "08940235196587110399"
     },
     "user_tz": 0
    },
    "id": "G-XsRdpkNUQp",
    "outputId": "e7fcc008-5913-4a03-9446-4fe677397bb9"
   },
   "outputs": [
    {
     "data": {
      "text/plain": [
       "<matplotlib.legend.Legend at 0x7e4c5dccfac0>"
      ]
     },
     "execution_count": 42,
     "metadata": {},
     "output_type": "execute_result"
    },
    {
     "data": {
      "image/png": "[encoded data removed]",
      "text/plain": [
       "<Figure size 640x480 with 1 Axes>"
      ]
     },
     "metadata": {},
     "output_type": "display_data"
    }
   ],
   "source": [
    "plt.plot(accuracy_improved_model_adam, label = \"Accuracy of the Improved Model with Adam Optimizer\")\n",
    "plt.plot(accuracy_improved_model_sgd, label = \"Accuracy of the Improved Model with SGD Optimizer\")\n",
    "plt.plot(accuracy_base_model_adam, label = \"Accuracy of the Base Model with Adam Optimizer\")\n",
    "plt.plot(accuracy_base_model_sgd, label = \"Accuracy of the Base Model with SGD Optimizer\")\n",
    "plt.xlabel(\"Tests\")\n",
    "plt.ylabel(\"Accuracy\")\n",
    "plt.legend(frameon=False)"
   ]
  }
 ],
 "metadata": {
  "accelerator": "GPU",
  "colab": {
   "authorship_tag": "ABX9TyOrgETS1VMRXD+oa/B/24RU",
   "gpuType": "T4",
   "provenance": []
  },
  "kernelspec": {
   "display_name": "Python 3",
   "language": "python",
   "name": "python3"
  },
  "language_info": {
   "codemirror_mode": {
    "name": "ipython",
    "version": 3
   },
   "file_extension": ".py",
   "mimetype": "text/x-python",
   "name": "python",
   "nbconvert_exporter": "python",
   "pygments_lexer": "ipython3",
   "version": "3.8.5"
  }
 },
 "nbformat": 4,
 "nbformat_minor": 1
}
